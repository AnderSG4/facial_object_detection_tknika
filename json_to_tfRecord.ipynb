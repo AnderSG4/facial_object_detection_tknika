{
 "cells": [
  {
   "cell_type": "code",
   "execution_count": 1,
   "metadata": {},
   "outputs": [],
   "source": [
    "import os\n",
    "import json\n",
    "import cv2\n",
    "import pandas as pd\n",
    "import pickle\n",
    "from sklearn.model_selection import train_test_split\n",
    "import shutil"
   ]
  },
  {
   "cell_type": "code",
   "execution_count": 6,
   "metadata": {},
   "outputs": [],
   "source": [
    "# divide train and test images\n",
    "path_to_json = 'data/annotations/'\n",
    "path_to_jpg = 'data/images/'\n",
    "\n",
    "lista_json = os.listdir(path_to_json)\n",
    "lista_jpg = os.listdir(path_to_jpg)\n",
    "lista_jpg_train, lista_jpg_test, lista_json_train, lista_json_test = train_test_split(lista_jpg, lista_json, test_size=0.2, random_state=42)\n",
    "\n",
    "dict_folder_list = {path_to_json + 'train':lista_json_train, path_to_json + 'test':lista_json_test, path_to_jpg + 'train':lista_jpg_train, path_to_jpg + 'test':lista_jpg_test}\n",
    "dict_folder = {path_to_json + 'train':path_to_json, path_to_json + 'test':path_to_json, path_to_jpg + 'train':path_to_jpg, path_to_jpg + 'test':path_to_jpg}\n",
    "\n",
    "for dir_path in [path_to_json + 'train', path_to_json + 'test', path_to_jpg + 'train', path_to_jpg + 'test']:\n",
    "    if not os.path.exists(dir_path):\n",
    "        os.makedirs(dir_path)\n",
    "\n",
    "    if os.path.exists(dir_path):\n",
    "        for file_name in dict_folder_list[dir_path]:\n",
    "            file_path = dict_folder[dir_path] + file_name\n",
    "            \n",
    "            # move files into created directory\n",
    "            shutil.move(file_path, dir_path)"
   ]
  },
  {
   "cell_type": "code",
   "execution_count": 8,
   "metadata": {},
   "outputs": [
    {
     "name": "stdout",
     "output_type": "stream",
     "text": [
      "Successfully converted json to csv.\n",
      "Successfully converted json to csv.\n"
     ]
    }
   ],
   "source": [
    "def json_to_csv(folder):\n",
    "    path_to_json = 'data/annotations/{}/'.format(folder)\n",
    "    json_files = [pos_json for pos_json in os.listdir(path_to_json) if pos_json.endswith('.json')]\n",
    "    path_to_jpg = 'data/images/{}/'.format(folder)\n",
    "    jpg_files = [pos_jpg for pos_jpg in os.listdir(path_to_jpg)]\n",
    "    fjpg=(list(jpg_files))\n",
    "    n=0\n",
    "    csv_list = []\n",
    "    labels=[]\n",
    "    for j in json_files:\n",
    "        data_file=open(path_to_json + j)   \n",
    "        data = json.load(data_file)\n",
    "        filename = data['FileName']\n",
    "        img = cv2.cvtColor(cv2.imread('data/images/{}/{}'.format(folder,filename)),cv2.COLOR_BGR2RGB)\n",
    "        width, height = img.shape[0], img.shape[1]\n",
    "        for item in data['Annotations']:\n",
    "            if data['NumOfAnno']>0:\n",
    "                name=item['classname']\n",
    "                labels.append(name)\n",
    "                xmin=item['BoundingBox'][0]\n",
    "                ymin=item['BoundingBox'][1]\n",
    "                xmax=item['BoundingBox'][2]\n",
    "                ymax=item['BoundingBox'][3]\n",
    "                value = (fjpg[n],\n",
    "                         width,\n",
    "                         height,\n",
    "                         name,\n",
    "                         xmin,\n",
    "                         ymin,\n",
    "                         xmax,\n",
    "                         ymax\n",
    "                         )\n",
    "                csv_list.append(value)\n",
    "        n=n+1\n",
    "    column_name = ['filename', 'width', 'height', 'class', 'xmin', 'ymin', 'xmax', 'ymax']\n",
    "    csv_df = pd.DataFrame(csv_list, columns=column_name)\n",
    "    labels_train=list(set(labels))\n",
    "    with open(\"train_labels.txt\", \"wb\") as fp:   #Pickling\n",
    "        pickle.dump(labels_train, fp)\n",
    "    return csv_df\n",
    "\n",
    "def main():\n",
    "    for directory in ['train','test']:\n",
    "        csv_df = json_to_csv(directory)\n",
    "        csv_df.to_csv('data/{}_labels.csv'.format(directory), index=None)\n",
    "        print('Successfully converted json to csv.')\n",
    "\n",
    "main()"
   ]
  },
  {
   "cell_type": "code",
   "execution_count": 1,
   "metadata": {},
   "outputs": [],
   "source": [
    "import os\n",
    "import io\n",
    "import pandas as pd\n",
    "import tensorflow as tf\n",
    "from PIL import Image\n",
    "\n",
    "from object_detection.utils import dataset_util\n",
    "from object_detection.utils import label_map_util\n",
    "from collections import namedtuple"
   ]
  },
  {
   "cell_type": "code",
   "execution_count": 2,
   "metadata": {},
   "outputs": [],
   "source": [
    "def split(df, group):\n",
    "\tdata = namedtuple('data', ['filename', 'object'])\n",
    "\tgb = df.groupby(group)\n",
    "\treturn [data(filename, gb.get_group(x)) for filename, x in zip(gb.groups.keys(), gb.groups)]"
   ]
  },
  {
   "cell_type": "code",
   "execution_count": 3,
   "metadata": {},
   "outputs": [],
   "source": [
    "def create_tf_example(group, path, category_idx):\n",
    "\twith tf.io.gfile.GFile(os.path.join(path, '{}'.format(group.filename)), 'rb') as fid:\n",
    "\t\tencoded_jpg = fid.read()\n",
    "\tencoded_jpg_io = io.BytesIO(encoded_jpg)\n",
    "\timage = Image.open(encoded_jpg_io)\n",
    "\twidth, height = image.size\n",
    "\n",
    "\tfilename = group.filename.encode('utf8')\n",
    "\timage_format = b'jpg'\n",
    "\txmins = []\n",
    "\txmaxs = []\n",
    "\tymins = []\n",
    "\tymaxs = []\n",
    "\tclasses_text = []\n",
    "\tclasses = []\n",
    "\n",
    "\tfor index, row in group.object.iterrows():\n",
    "\t\txmins.append(float(row['xmin']) / width)\n",
    "\t\txmaxs.append(float(row['xmax']) / width)\n",
    "\t\tymins.append(float(row['ymin']) / height)\n",
    "\t\tymaxs.append(float(row['ymax']) / height)\n",
    "\t\tclasses_text.append(row['class'].encode('utf8'))\n",
    "\t\tclasses.append(category_idx[row['class']])\n",
    "\n",
    "\ttf_example = tf.train.Example(features=tf.train.Features(feature={\n",
    "\t\t'image/height': dataset_util.int64_feature(height),\n",
    "\t\t'image/width': dataset_util.int64_feature(width),\n",
    "\t\t'image/filename': dataset_util.bytes_feature(filename),\n",
    "\t\t'image/source_id': dataset_util.bytes_feature(filename),\n",
    "\t\t'image/encoded': dataset_util.bytes_feature(encoded_jpg),\n",
    "\t\t'image/format': dataset_util.bytes_feature(image_format),\n",
    "\t\t'image/object/bbox/xmin': dataset_util.float_list_feature(xmins),\n",
    "\t\t'image/object/bbox/xmax': dataset_util.float_list_feature(xmaxs),\n",
    "\t\t'image/object/bbox/ymin': dataset_util.float_list_feature(ymins),\n",
    "\t\t'image/object/bbox/ymax': dataset_util.float_list_feature(ymaxs),\n",
    "\t\t'image/object/class/text': dataset_util.bytes_list_feature(classes_text),\n",
    "\t\t'image/object/class/label': dataset_util.int64_list_feature(classes),\n",
    "\t}))\n",
    "\treturn tf_example"
   ]
  },
  {
   "cell_type": "code",
   "execution_count": null,
   "metadata": {},
   "outputs": [
    {
     "name": "stdout",
     "output_type": "stream",
     "text": [
      "images path :  data/images/test\n",
      "csv path :  data/test_labels.csv\n",
      "path to output tfrecords :  data/myrecord_test.record\n",
      "Generating tfrecord .... \n",
      "Successfully created the TFRecords: data/myrecord_test.record\n"
     ]
    }
   ],
   "source": [
    "if __name__ == '__main__':\n",
    "\n",
    "\tcsv_path = \"data/train_labels.csv\"\n",
    "\timages_path = \"data/images/train\"\n",
    "\ttfrecord_path = \"data/myrecord_train.record\"\n",
    "\tprint(\"images path : \", images_path)\n",
    "\tprint(\"csv path : \", csv_path)\n",
    "\tprint(\"path to output tfrecords : \", tfrecord_path)\n",
    "\tlabel_map_dict = label_map_util.get_label_map_dict(\"label_map.pbtxt\")\n",
    "\twriter = tf.io.TFRecordWriter(tfrecord_path)\n",
    "\n",
    "\texamples = pd.read_csv(csv_path)\n",
    "\tprint(\"Generating tfrecord .... \")\n",
    "\tgrouped = split(examples, 'filename')\n",
    "\tfor group in grouped:\n",
    "\t\ttf_example = create_tf_example(group, images_path, label_map_dict)\n",
    "\t\twriter.write(tf_example.SerializeToString())\n",
    "\n",
    "\twriter.close()\n",
    "\tprint('Successfully created the TFRecords: {}'.format(tfrecord_path))"
   ]
  },
  {
   "cell_type": "code",
   "execution_count": 7,
   "metadata": {},
   "outputs": [
    {
     "name": "stdout",
     "output_type": "stream",
     "text": [
      "images path :  data/images/test\n",
      "csv path :  data/test_labels.csv\n",
      "path to output tfrecords :  data/myrecord_test.record\n",
      "Generating tfrecord .... \n",
      "Successfully created the TFRecords: data/myrecord_test.record\n"
     ]
    }
   ],
   "source": [
    "if __name__ == '__main__':\n",
    "\n",
    "\tcsv_path = \"data/test_labels.csv\"\n",
    "\timages_path = \"data/images/test\"\n",
    "\ttfrecord_path = \"data/myrecord_test.record\"\n",
    "\tprint(\"images path : \", images_path)\n",
    "\tprint(\"csv path : \", csv_path)\n",
    "\tprint(\"path to output tfrecords : \", tfrecord_path)\n",
    "\tlabel_map_dict = label_map_util.get_label_map_dict(\"label_map.pbtxt\")\n",
    "\twriter = tf.io.TFRecordWriter(tfrecord_path)\n",
    "\n",
    "\texamples = pd.read_csv(csv_path)\n",
    "\tprint(\"Generating tfrecord .... \")\n",
    "\tgrouped = split(examples, 'filename')\n",
    "\tfor group in grouped:\n",
    "\t\ttf_example = create_tf_example(group, images_path, label_map_dict)\n",
    "\t\twriter.write(tf_example.SerializeToString())\n",
    "\n",
    "\twriter.close()\n",
    "\tprint('Successfully created the TFRecords: {}'.format(tfrecord_path))"
   ]
  }
 ],
 "metadata": {
  "interpreter": {
   "hash": "5cb729266c67e067bc1cd3ab56489382d4ad73ed71b4f77fa70513221de49fa9"
  },
  "kernelspec": {
   "display_name": "Python 3.8.11 64-bit ('tf_gpu': conda)",
   "name": "python3"
  },
  "language_info": {
   "codemirror_mode": {
    "name": "ipython",
    "version": 3
   },
   "file_extension": ".py",
   "mimetype": "text/x-python",
   "name": "python",
   "nbconvert_exporter": "python",
   "pygments_lexer": "ipython3",
   "version": "3.8.11"
  },
  "orig_nbformat": 4
 },
 "nbformat": 4,
 "nbformat_minor": 2
}
